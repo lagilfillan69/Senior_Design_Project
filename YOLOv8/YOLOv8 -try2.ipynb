{
 "cells": [
  {
   "cell_type": "code",
   "execution_count": 2,
   "metadata": {},
   "outputs": [
    {
     "name": "stdout",
     "output_type": "stream",
     "text": [
      "c:\\Users\\jump3\\Desktop\\curr school\\Senior_Design-ML\n"
     ]
    }
   ],
   "source": [
    "import os\n",
    "HOME = os.getcwd()\n",
    "print(HOME)"
   ]
  },
  {
   "cell_type": "code",
   "execution_count": 5,
   "metadata": {},
   "outputs": [
    {
     "name": "stdout",
     "output_type": "stream",
     "text": [
      "Ultralytics YOLOv8.2.92  Python-3.11.5 torch-2.4.1+cpu CPU (Intel Core(TM) i9-10885H 2.40GHz)\n",
      "Setup complete  (16 CPUs, 31.8 GB RAM, 617.7/933.4 GB disk)\n"
     ]
    }
   ],
   "source": [
    "import ultralytics\n",
    "ultralytics.checks()\n",
    "\n",
    "from ultralytics import YOLO"
   ]
  },
  {
   "cell_type": "code",
   "execution_count": 6,
   "metadata": {},
   "outputs": [],
   "source": [
    "# Load a model\n",
    "model = YOLO(\"yolov8n.pt\")  # load a pretrained model (recommended for training)"
   ]
  },
  {
   "cell_type": "code",
   "execution_count": 5,
   "metadata": {},
   "outputs": [
    {
     "name": "stdout",
     "output_type": "stream",
     "text": [
      "Ultralytics YOLOv8.2.92  Python-3.11.5 torch-2.4.1+cpu CPU (Intel Core(TM) i9-10885H 2.40GHz)\n",
      "\u001b[34m\u001b[1mengine\\trainer: \u001b[0mtask=detect, mode=train, model=yolov8n.pt, data=c:\\Users\\jump3\\Desktop\\curr school\\Senior_Design-ML\\datasets\\data.yaml, epochs=1, time=None, patience=100, batch=16, imgsz=640, save=True, save_period=-1, cache=False, device=None, workers=8, project=None, name=train3, exist_ok=False, pretrained=True, optimizer=auto, verbose=True, seed=0, deterministic=True, single_cls=False, rect=False, cos_lr=False, close_mosaic=10, resume=False, amp=True, fraction=1.0, profile=False, freeze=None, multi_scale=False, overlap_mask=True, mask_ratio=4, dropout=0.0, val=True, split=val, save_json=False, save_hybrid=False, conf=None, iou=0.7, max_det=300, half=False, dnn=False, plots=True, source=None, vid_stride=1, stream_buffer=False, visualize=False, augment=False, agnostic_nms=False, classes=None, retina_masks=False, embed=None, show=False, save_frames=False, save_txt=False, save_conf=False, save_crop=False, show_labels=True, show_conf=True, show_boxes=True, line_width=None, format=torchscript, keras=False, optimize=False, int8=False, dynamic=False, simplify=False, opset=None, workspace=4, nms=False, lr0=0.01, lrf=0.01, momentum=0.937, weight_decay=0.0005, warmup_epochs=3.0, warmup_momentum=0.8, warmup_bias_lr=0.1, box=7.5, cls=0.5, dfl=1.5, pose=12.0, kobj=1.0, label_smoothing=0.0, nbs=64, hsv_h=0.015, hsv_s=0.7, hsv_v=0.4, degrees=0.0, translate=0.1, scale=0.5, shear=0.0, perspective=0.0, flipud=0.0, fliplr=0.5, bgr=0.0, mosaic=1.0, mixup=0.0, copy_paste=0.0, auto_augment=randaugment, erasing=0.4, crop_fraction=1.0, cfg=None, tracker=botsort.yaml, save_dir=runs\\detect\\train3\n",
      "Overriding model.yaml nc=80 with nc=5\n",
      "\n",
      "                   from  n    params  module                                       arguments                     \n",
      "  0                  -1  1       464  ultralytics.nn.modules.conv.Conv             [3, 16, 3, 2]                 \n",
      "  1                  -1  1      4672  ultralytics.nn.modules.conv.Conv             [16, 32, 3, 2]                \n",
      "  2                  -1  1      7360  ultralytics.nn.modules.block.C2f             [32, 32, 1, True]             \n",
      "  3                  -1  1     18560  ultralytics.nn.modules.conv.Conv             [32, 64, 3, 2]                \n",
      "  4                  -1  2     49664  ultralytics.nn.modules.block.C2f             [64, 64, 2, True]             \n",
      "  5                  -1  1     73984  ultralytics.nn.modules.conv.Conv             [64, 128, 3, 2]               \n",
      "  6                  -1  2    197632  ultralytics.nn.modules.block.C2f             [128, 128, 2, True]           \n",
      "  7                  -1  1    295424  ultralytics.nn.modules.conv.Conv             [128, 256, 3, 2]              \n",
      "  8                  -1  1    460288  ultralytics.nn.modules.block.C2f             [256, 256, 1, True]           \n",
      "  9                  -1  1    164608  ultralytics.nn.modules.block.SPPF            [256, 256, 5]                 \n",
      " 10                  -1  1         0  torch.nn.modules.upsampling.Upsample         [None, 2, 'nearest']          \n",
      " 11             [-1, 6]  1         0  ultralytics.nn.modules.conv.Concat           [1]                           \n",
      " 12                  -1  1    148224  ultralytics.nn.modules.block.C2f             [384, 128, 1]                 \n",
      " 13                  -1  1         0  torch.nn.modules.upsampling.Upsample         [None, 2, 'nearest']          \n",
      " 14             [-1, 4]  1         0  ultralytics.nn.modules.conv.Concat           [1]                           \n",
      " 15                  -1  1     37248  ultralytics.nn.modules.block.C2f             [192, 64, 1]                  \n",
      " 16                  -1  1     36992  ultralytics.nn.modules.conv.Conv             [64, 64, 3, 2]                \n",
      " 17            [-1, 12]  1         0  ultralytics.nn.modules.conv.Concat           [1]                           \n",
      " 18                  -1  1    123648  ultralytics.nn.modules.block.C2f             [192, 128, 1]                 \n",
      " 19                  -1  1    147712  ultralytics.nn.modules.conv.Conv             [128, 128, 3, 2]              \n",
      " 20             [-1, 9]  1         0  ultralytics.nn.modules.conv.Concat           [1]                           \n",
      " 21                  -1  1    493056  ultralytics.nn.modules.block.C2f             [384, 256, 1]                 \n",
      " 22        [15, 18, 21]  1    752287  ultralytics.nn.modules.head.Detect           [5, [64, 128, 256]]           \n",
      "Model summary: 225 layers, 3,011,823 parameters, 3,011,807 gradients, 8.2 GFLOPs\n",
      "\n",
      "Transferred 319/355 items from pretrained weights\n",
      "Freezing layer 'model.22.dfl.conv.weight'\n"
     ]
    },
    {
     "name": "stderr",
     "output_type": "stream",
     "text": [
      "\u001b[34m\u001b[1mtrain: \u001b[0mScanning C:\\Users\\jump3\\Desktop\\curr school\\Senior_Design-ML\\datasets\\train\\labels.cache... 335 images, 0 backgrounds, 0 corrupt: 100%|██████████| 335/335 [00:00<?, ?it/s]\n",
      "\u001b[34m\u001b[1mval: \u001b[0mScanning C:\\Users\\jump3\\Desktop\\curr school\\Senior_Design-ML\\datasets\\valid\\labels.cache... 95 images, 0 backgrounds, 0 corrupt: 100%|██████████| 95/95 [00:00<?, ?it/s]\n"
     ]
    },
    {
     "name": "stdout",
     "output_type": "stream",
     "text": [
      "Plotting labels to runs\\detect\\train3\\labels.jpg... \n",
      "\u001b[34m\u001b[1moptimizer:\u001b[0m 'optimizer=auto' found, ignoring 'lr0=0.01' and 'momentum=0.937' and determining best 'optimizer', 'lr0' and 'momentum' automatically... \n",
      "\u001b[34m\u001b[1moptimizer:\u001b[0m AdamW(lr=0.001111, momentum=0.9) with parameter groups 57 weight(decay=0.0), 64 weight(decay=0.0005), 63 bias(decay=0.0)\n",
      "Image sizes 640 train, 640 val\n",
      "Using 0 dataloader workers\n",
      "Logging results to \u001b[1mruns\\detect\\train3\u001b[0m\n",
      "Starting training for 1 epochs...\n",
      "\n",
      "      Epoch    GPU_mem   box_loss   cls_loss   dfl_loss  Instances       Size\n"
     ]
    },
    {
     "name": "stderr",
     "output_type": "stream",
     "text": [
      "        1/1         0G     0.5051      3.001      1.031         47        640: 100%|██████████| 21/21 [02:06<00:00,  6.03s/it]\n",
      "                 Class     Images  Instances      Box(P          R      mAP50  mAP50-95): 100%|██████████| 3/3 [00:12<00:00,  4.21s/it]\n"
     ]
    },
    {
     "name": "stdout",
     "output_type": "stream",
     "text": [
      "                   all         95         95    0.00584          1      0.289      0.259\n",
      "\n",
      "1 epochs completed in 0.040 hours.\n",
      "Optimizer stripped from runs\\detect\\train3\\weights\\last.pt, 6.2MB\n",
      "Optimizer stripped from runs\\detect\\train3\\weights\\best.pt, 6.2MB\n",
      "\n",
      "Validating runs\\detect\\train3\\weights\\best.pt...\n",
      "Ultralytics YOLOv8.2.92  Python-3.11.5 torch-2.4.1+cpu CPU (Intel Core(TM) i9-10885H 2.40GHz)\n",
      "Model summary (fused): 168 layers, 3,006,623 parameters, 0 gradients, 8.1 GFLOPs\n"
     ]
    },
    {
     "name": "stderr",
     "output_type": "stream",
     "text": [
      "                 Class     Images  Instances      Box(P          R      mAP50  mAP50-95): 100%|██████████| 3/3 [00:09<00:00,  3.05s/it]\n"
     ]
    },
    {
     "name": "stdout",
     "output_type": "stream",
     "text": [
      "                   all         95         95    0.00586          1      0.289       0.26\n",
      "             cardboard          9          9   0.000707          1     0.0881     0.0722\n",
      "                 glass         24         24    0.00712          1      0.397      0.367\n",
      "                 metal         20         20    0.00563          1      0.568      0.544\n",
      "                 paper         22         22    0.00302          1      0.196      0.149\n",
      "               plastic         20         20     0.0128          1      0.198      0.168\n",
      "Speed: 1.9ms preprocess, 71.2ms inference, 0.0ms loss, 7.7ms postprocess per image\n",
      "Results saved to \u001b[1mruns\\detect\\train3\u001b[0m\n",
      "Ultralytics YOLOv8.2.92  Python-3.11.5 torch-2.4.1+cpu CPU (Intel Core(TM) i9-10885H 2.40GHz)\n",
      "Model summary (fused): 168 layers, 3,006,623 parameters, 0 gradients, 8.1 GFLOPs\n"
     ]
    },
    {
     "name": "stderr",
     "output_type": "stream",
     "text": [
      "\u001b[34m\u001b[1mval: \u001b[0mScanning C:\\Users\\jump3\\Desktop\\curr school\\Senior_Design-ML\\datasets\\valid\\labels.cache... 95 images, 0 backgrounds, 0 corrupt: 100%|██████████| 95/95 [00:00<?, ?it/s]\n",
      "                 Class     Images  Instances      Box(P          R      mAP50  mAP50-95): 100%|██████████| 6/6 [00:08<00:00,  1.49s/it]\n"
     ]
    },
    {
     "name": "stdout",
     "output_type": "stream",
     "text": [
      "                   all         95         95    0.00586          1      0.289       0.26\n",
      "             cardboard          9          9   0.000707          1     0.0881     0.0722\n",
      "                 glass         24         24    0.00712          1      0.397      0.367\n",
      "                 metal         20         20    0.00563          1      0.568      0.544\n",
      "                 paper         22         22    0.00302          1      0.196      0.149\n",
      "               plastic         20         20     0.0128          1      0.198      0.168\n",
      "Speed: 1.6ms preprocess, 70.9ms inference, 0.0ms loss, 7.5ms postprocess per image\n",
      "Results saved to \u001b[1mruns\\detect\\train32\u001b[0m\n"
     ]
    }
   ],
   "source": [
    "#Disable piece of shit API\n",
    "os.environ['WANDB_MODE'] = 'disabled'\n",
    "from ultralytics import settings\n",
    "settings.update({\"wandb\": False})\n",
    "\n",
    "\n",
    "\n",
    "#Train model\n",
    "model.train(data=HOME+\"/datasets\\data.yaml\", epochs=1)  # train the model\n",
    "metrics = model.val()  # evaluate model performance on the validation set\n",
    "# results = model(\"https://ultralytics.com/images/bus.jpg\")  # predict on an image\n",
    "# path = model.export(format=\"onnx\")  # export the model to ONNX format"
   ]
  },
  {
   "cell_type": "code",
   "execution_count": 10,
   "metadata": {},
   "outputs": [
    {
     "name": "stdout",
     "output_type": "stream",
     "text": [
      "\n",
      "image 1/1 c:\\Users\\jump3\\Desktop\\curr school\\Senior_Design-ML\\TrashType_Image_Dataset\\cardboard\\cardboard_130.jpg: 480x640 (no detections), 141.8ms\n",
      "Speed: 4.0ms preprocess, 141.8ms inference, 0.0ms postprocess per image at shape (1, 3, 480, 640)\n"
     ]
    }
   ],
   "source": [
    "results_cardboard = model(HOME+\"\\TrashType_Image_Dataset\\cardboard\\cardboard_130.jpg\")  # predict on an image"
   ]
  },
  {
   "cell_type": "code",
   "execution_count": 9,
   "metadata": {},
   "outputs": [],
   "source": [
    "# boxes = results_cardboard.boxes  # Boxes object for bounding box outputs\n",
    "# masks = results_cardboard.masks  # Masks object for segmentation masks outputs\n",
    "# keypoints = results_cardboard.keypoints  # Keypoints object for pose outputs\n",
    "# probs = results_cardboard.probs  # Probs object for classification outputs\n",
    "# obb = results_cardboard.obb  # Oriented boxes object for OBB outputs\n",
    "results_cardboard[0].show()  # display to screen"
   ]
  },
  {
   "cell_type": "code",
   "execution_count": 8,
   "metadata": {},
   "outputs": [
    {
     "name": "stdout",
     "output_type": "stream",
     "text": [
      "Ultralytics YOLOv8.2.92  Python-3.11.5 torch-2.4.1+cpu CPU (Intel Core(TM) i9-10885H 2.40GHz)\n",
      "YOLOv8n summary (fused): 168 layers, 3,151,904 parameters, 0 gradients, 8.7 GFLOPs\n",
      "\n",
      "\u001b[34m\u001b[1mPyTorch:\u001b[0m starting from 'yolov8n.pt' with input shape (1, 3, 640, 640) BCHW and output shape(s) (1, 84, 8400) (6.2 MB)\n",
      "\n",
      "\u001b[34m\u001b[1mONNX:\u001b[0m starting export with onnx 1.16.2 opset 19...\n",
      "\u001b[34m\u001b[1mONNX:\u001b[0m export success  2.3s, saved as 'yolov8n.onnx' (12.2 MB)\n",
      "\n",
      "Export complete (5.4s)\n",
      "Results saved to \u001b[1mC:\\Users\\jump3\\Desktop\\curr school\\Senior_Design-ML\u001b[0m\n",
      "Predict:         yolo predict task=detect model=yolov8n.onnx imgsz=640  \n",
      "Validate:        yolo val task=detect model=yolov8n.onnx imgsz=640 data=coco.yaml  \n",
      "Visualize:       https://netron.app\n"
     ]
    },
    {
     "data": {
      "text/plain": [
       "'yolov8n.onnx'"
      ]
     },
     "execution_count": 8,
     "metadata": {},
     "output_type": "execute_result"
    }
   ],
   "source": [
    "# model.export(HOME+\"\\export_try.pt\")  # export the model to ONNX format\n",
    "model.export(format='onnx',verbose=False)"
   ]
  },
  {
   "cell_type": "code",
   "execution_count": 6,
   "metadata": {},
   "outputs": [
    {
     "name": "stdout",
     "output_type": "stream",
     "text": [
      "\n",
      "image 1/1 c:\\Users\\jump3\\Desktop\\curr school\\Senior_Design-ML\\TrashType_Image_Dataset\\cardboard\\cardboard_131.jpg: 480x640 (no detections), 184.0ms\n",
      "Speed: 4.0ms preprocess, 184.0ms inference, 0.0ms postprocess per image at shape (1, 3, 480, 640)\n",
      "Results saved to \u001b[1mxxx\\yyy\u001b[0m\n",
      "0 label saved to xxx\\yyy\\labels\n"
     ]
    }
   ],
   "source": [
    "results = model.predict(source=HOME+\"\\TrashType_Image_Dataset\\cardboard\\cardboard_131.jpg\", save_txt = True, project=\"xxx\", name=\"yyy\")\n"
   ]
  },
  {
   "cell_type": "code",
   "execution_count": 12,
   "metadata": {},
   "outputs": [
    {
     "data": {
      "text/plain": [
       "['old', 'train', 'train2', 'train3', 'train32']"
      ]
     },
     "execution_count": 12,
     "metadata": {},
     "output_type": "execute_result"
    }
   ],
   "source": [
    "os.listdir('C:/Users/jump3/Desktop/curr school/Senior_Design-ML/runs/detect')"
   ]
  },
  {
   "cell_type": "code",
   "execution_count": 13,
   "metadata": {},
   "outputs": [
    {
     "ename": "NotADirectoryError",
     "evalue": "[WinError 267] The directory name is invalid: 'C:/Users/jump3/Desktop/curr school/Senior_Design-ML/runs/detect/train/weights/last.pt'",
     "output_type": "error",
     "traceback": [
      "\u001b[1;31m---------------------------------------------------------------------------\u001b[0m",
      "\u001b[1;31mNotADirectoryError\u001b[0m                        Traceback (most recent call last)",
      "Cell \u001b[1;32mIn[13], line 1\u001b[0m\n\u001b[1;32m----> 1\u001b[0m \u001b[43mos\u001b[49m\u001b[38;5;241;43m.\u001b[39;49m\u001b[43mlistdir\u001b[49m\u001b[43m(\u001b[49m\u001b[38;5;124;43m'\u001b[39;49m\u001b[38;5;124;43mC:/Users/jump3/Desktop/curr school/Senior_Design-ML/runs/detect/train/weights/last.pt\u001b[39;49m\u001b[38;5;124;43m'\u001b[39;49m\u001b[43m)\u001b[49m\n",
      "\u001b[1;31mNotADirectoryError\u001b[0m: [WinError 267] The directory name is invalid: 'C:/Users/jump3/Desktop/curr school/Senior_Design-ML/runs/detect/train/weights/last.pt'"
     ]
    }
   ],
   "source": [
    "os.listdir('C:/Users/jump3/Desktop/curr school/Senior_Design-ML/runs/detect/train/weights/last.pt')"
   ]
  },
  {
   "cell_type": "code",
   "execution_count": 2,
   "metadata": {},
   "outputs": [
    {
     "name": "stdout",
     "output_type": "stream",
     "text": [
      "C:/Users/jump3/Desktop/curr school/Senior_Design-ML/runs/detect/train3/weights/best.pt\n"
     ]
    }
   ],
   "source": [
    "import os\n",
    "\n",
    "path = 'C:/Users/jump3/Desktop/curr school/Senior_Design-ML/runs/detect'\n",
    "\n",
    "\n",
    "\n",
    "def find_latest_file(folder_path):\n",
    "    folder_list = os.listdir('C:/Users/jump3/Desktop/curr school/Senior_Design-ML/runs/detect')\n",
    "    file_list = [ i for i in folder_list if i[-3:] == '.pt']\n",
    "    folder_list.reverse()\n",
    "    file_list.reverse()\n",
    "    # print( folder_list )\n",
    "    # print( file_list )\n",
    "\n",
    "    if file_list: return f'{folder_path}/{file_list[0]}'\n",
    "\n",
    "    for folder in folder_list:\n",
    "        if os.path.isfile(f'{folder_path}/{folder}/weights/best.pt'): return f'{folder_path}/{folder}/weights/best.pt'\n",
    "    return None\n",
    "            \n",
    "print( find_latest_file(path) )"
   ]
  },
  {
   "cell_type": "code",
   "execution_count": null,
   "metadata": {},
   "outputs": [],
   "source": [
    "path = model.export(format='onnx',verbose=False)"
   ]
  },
  {
   "cell_type": "code",
   "execution_count": 13,
   "metadata": {},
   "outputs": [
    {
     "name": "stdout",
     "output_type": "stream",
     "text": [
      "['C:/Users/jump3/Desktop/curr school/Senior_Design-ML/export path/save', 'onnx']\n",
      "['C:/Users/jump3/Desktop/curr school/Senior_Design-ML/export path/save']\n",
      "['C:/Users/jump3/Desktop/curr school/Senior_Design-ML/export path/save', 'pt']\n"
     ]
    }
   ],
   "source": [
    "import shutil\n",
    "\n",
    "exp1 = 'C:/Users/jump3/Desktop/curr school/Senior_Design-ML/export path/save.onnx'\n",
    "exp2 = 'C:/Users/jump3/Desktop/curr school/Senior_Design-ML/export path/save'\n",
    "exp3 = 'C:/Users/jump3/Desktop/curr school/Senior_Design-ML/export path/save.pt'\n",
    "# path = model.export(format='onnx',verbose=False)\n",
    "print( exp1.split('.') )\n",
    "print( exp2.split('.') )\n",
    "print( exp3.split('.') )"
   ]
  },
  {
   "cell_type": "code",
   "execution_count": 14,
   "metadata": {},
   "outputs": [],
   "source": [
    "def save_model(file_path):\n",
    "    path = model.export(format='onnx',verbose=False)\n",
    "    \n",
    "    sp = file_path.split('.')\n",
    "    if len(sp)>1:\n",
    "        if sp[-1] != 'onnx':\n",
    "            #.(not onnx) file_path\n",
    "            export = shutil.copyfile(path, '.'.join(sp[:-1])+'.onnx')\n",
    "        else:\n",
    "            #.onnx file_path (correct)\n",
    "            export = shutil.copyfile(path, file_path)\n",
    "    else:\n",
    "        #folder file_path\n",
    "        export = shutil.copyfile(path, f'{file_path}/Unnamed_save.onnx')\n",
    "    #delete old file\n",
    "    os.remove(path)\n",
    "    return export"
   ]
  },
  {
   "cell_type": "code",
   "execution_count": 15,
   "metadata": {},
   "outputs": [
    {
     "name": "stdout",
     "output_type": "stream",
     "text": [
      "Ultralytics YOLOv8.2.92  Python-3.11.5 torch-2.4.1+cpu CPU (Intel Core(TM) i9-10885H 2.40GHz)\n",
      "YOLOv8n summary (fused): 168 layers, 3,151,904 parameters, 0 gradients, 8.7 GFLOPs\n",
      "\n",
      "\u001b[34m\u001b[1mPyTorch:\u001b[0m starting from 'yolov8n.pt' with input shape (1, 3, 640, 640) BCHW and output shape(s) (1, 84, 8400) (6.2 MB)\n",
      "\n",
      "\u001b[34m\u001b[1mONNX:\u001b[0m starting export with onnx 1.16.2 opset 19...\n",
      "\u001b[34m\u001b[1mONNX:\u001b[0m export success  2.3s, saved as 'yolov8n.onnx' (12.2 MB)\n",
      "\n",
      "Export complete (6.2s)\n",
      "Results saved to \u001b[1mC:\\Users\\jump3\\Desktop\\curr school\\Senior_Design-ML\u001b[0m\n",
      "Predict:         yolo predict task=detect model=yolov8n.onnx imgsz=640  \n",
      "Validate:        yolo val task=detect model=yolov8n.onnx imgsz=640 data=coco.yaml  \n",
      "Visualize:       https://netron.app\n",
      "C:/Users/jump3/Desktop/curr school/Senior_Design-ML/export path/save.onnx\n",
      "Ultralytics YOLOv8.2.92  Python-3.11.5 torch-2.4.1+cpu CPU (Intel Core(TM) i9-10885H 2.40GHz)\n",
      "YOLOv8n summary (fused): 168 layers, 3,151,904 parameters, 0 gradients, 8.7 GFLOPs\n",
      "\n",
      "\u001b[34m\u001b[1mPyTorch:\u001b[0m starting from 'yolov8n.pt' with input shape (1, 3, 640, 640) BCHW and output shape(s) (1, 84, 8400) (6.2 MB)\n",
      "\n",
      "\u001b[34m\u001b[1mONNX:\u001b[0m starting export with onnx 1.16.2 opset 19...\n",
      "\u001b[34m\u001b[1mONNX:\u001b[0m export success  2.0s, saved as 'yolov8n.onnx' (12.2 MB)\n",
      "\n",
      "Export complete (5.2s)\n",
      "Results saved to \u001b[1mC:\\Users\\jump3\\Desktop\\curr school\\Senior_Design-ML\u001b[0m\n",
      "Predict:         yolo predict task=detect model=yolov8n.onnx imgsz=640  \n",
      "Validate:        yolo val task=detect model=yolov8n.onnx imgsz=640 data=coco.yaml  \n",
      "Visualize:       https://netron.app\n"
     ]
    },
    {
     "ename": "FileNotFoundError",
     "evalue": "[Errno 2] No such file or directory: 'C:/Users/jump3/Desktop/curr school/Senior_Design-ML/export path/save/Unnamed_save.onnx'",
     "output_type": "error",
     "traceback": [
      "\u001b[1;31m---------------------------------------------------------------------------\u001b[0m",
      "\u001b[1;31mFileNotFoundError\u001b[0m                         Traceback (most recent call last)",
      "Cell \u001b[1;32mIn[15], line 2\u001b[0m\n\u001b[0;32m      1\u001b[0m \u001b[38;5;28mprint\u001b[39m( save_model(exp1) )\n\u001b[1;32m----> 2\u001b[0m \u001b[38;5;28mprint\u001b[39m( \u001b[43msave_model\u001b[49m\u001b[43m(\u001b[49m\u001b[43mexp2\u001b[49m\u001b[43m)\u001b[49m )\n\u001b[0;32m      3\u001b[0m \u001b[38;5;28mprint\u001b[39m( save_model(exp3) )\n",
      "Cell \u001b[1;32mIn[14], line 14\u001b[0m, in \u001b[0;36msave_model\u001b[1;34m(file_path)\u001b[0m\n\u001b[0;32m     11\u001b[0m         export \u001b[38;5;241m=\u001b[39m shutil\u001b[38;5;241m.\u001b[39mcopyfile(path, file_path)\n\u001b[0;32m     12\u001b[0m \u001b[38;5;28;01melse\u001b[39;00m:\n\u001b[0;32m     13\u001b[0m     \u001b[38;5;66;03m#folder file_path\u001b[39;00m\n\u001b[1;32m---> 14\u001b[0m     export \u001b[38;5;241m=\u001b[39m \u001b[43mshutil\u001b[49m\u001b[38;5;241;43m.\u001b[39;49m\u001b[43mcopyfile\u001b[49m\u001b[43m(\u001b[49m\u001b[43mpath\u001b[49m\u001b[43m,\u001b[49m\u001b[43m \u001b[49m\u001b[38;5;124;43mf\u001b[39;49m\u001b[38;5;124;43m'\u001b[39;49m\u001b[38;5;132;43;01m{\u001b[39;49;00m\u001b[43mfile_path\u001b[49m\u001b[38;5;132;43;01m}\u001b[39;49;00m\u001b[38;5;124;43m/Unnamed_save.onnx\u001b[39;49m\u001b[38;5;124;43m'\u001b[39;49m\u001b[43m)\u001b[49m\n\u001b[0;32m     15\u001b[0m \u001b[38;5;66;03m#delete old file\u001b[39;00m\n\u001b[0;32m     16\u001b[0m os\u001b[38;5;241m.\u001b[39mremove(path)\n",
      "File \u001b[1;32mc:\\Users\\jump3\\AppData\\Local\\Programs\\Python\\Python311\\Lib\\shutil.py:258\u001b[0m, in \u001b[0;36mcopyfile\u001b[1;34m(src, dst, follow_symlinks)\u001b[0m\n\u001b[0;32m    256\u001b[0m \u001b[38;5;28;01mwith\u001b[39;00m \u001b[38;5;28mopen\u001b[39m(src, \u001b[38;5;124m'\u001b[39m\u001b[38;5;124mrb\u001b[39m\u001b[38;5;124m'\u001b[39m) \u001b[38;5;28;01mas\u001b[39;00m fsrc:\n\u001b[0;32m    257\u001b[0m     \u001b[38;5;28;01mtry\u001b[39;00m:\n\u001b[1;32m--> 258\u001b[0m         \u001b[38;5;28;01mwith\u001b[39;00m \u001b[38;5;28;43mopen\u001b[39;49m\u001b[43m(\u001b[49m\u001b[43mdst\u001b[49m\u001b[43m,\u001b[49m\u001b[43m \u001b[49m\u001b[38;5;124;43m'\u001b[39;49m\u001b[38;5;124;43mwb\u001b[39;49m\u001b[38;5;124;43m'\u001b[39;49m\u001b[43m)\u001b[49m \u001b[38;5;28;01mas\u001b[39;00m fdst:\n\u001b[0;32m    259\u001b[0m             \u001b[38;5;66;03m# macOS\u001b[39;00m\n\u001b[0;32m    260\u001b[0m             \u001b[38;5;28;01mif\u001b[39;00m _HAS_FCOPYFILE:\n\u001b[0;32m    261\u001b[0m                 \u001b[38;5;28;01mtry\u001b[39;00m:\n",
      "\u001b[1;31mFileNotFoundError\u001b[0m: [Errno 2] No such file or directory: 'C:/Users/jump3/Desktop/curr school/Senior_Design-ML/export path/save/Unnamed_save.onnx'"
     ]
    }
   ],
   "source": [
    "print( \"EXP1\\t\\t\", save_model(exp1) )\n",
    "print( \"EXP2\\t\\t\", save_model(exp2) )\n",
    "print( \"EXP3\\t\\t\", save_model(exp3) )"
   ]
  }
 ],
 "metadata": {
  "kernelspec": {
   "display_name": "Python 3",
   "language": "python",
   "name": "python3"
  },
  "language_info": {
   "codemirror_mode": {
    "name": "ipython",
    "version": 3
   },
   "file_extension": ".py",
   "mimetype": "text/x-python",
   "name": "python",
   "nbconvert_exporter": "python",
   "pygments_lexer": "ipython3",
   "version": "3.11.5"
  }
 },
 "nbformat": 4,
 "nbformat_minor": 2
}
