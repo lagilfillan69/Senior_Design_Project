{
 "cells": [
  {
   "cell_type": "code",
   "execution_count": null,
   "metadata": {},
   "outputs": [],
   "source": [
    "import os\n",
    "HOME = os.getcwd()\n",
    "print(HOME)"
   ]
  },
  {
   "cell_type": "code",
   "execution_count": null,
   "metadata": {},
   "outputs": [],
   "source": [
    "import ultralytics\n",
    "ultralytics.checks()\n",
    "\n",
    "from ultralytics import YOLO"
   ]
  },
  {
   "cell_type": "code",
   "execution_count": 6,
   "metadata": {},
   "outputs": [],
   "source": [
    "# Load a model\n",
    "model = YOLO(\"yolov8n.pt\")  # load a pretrained model (recommended for training)"
   ]
  },
  {
   "cell_type": "code",
   "execution_count": null,
   "metadata": {},
   "outputs": [],
   "source": [
    "#Disable piece of shit API\n",
    "os.environ['WANDB_MODE'] = 'disabled'\n",
    "from ultralytics import settings\n",
    "settings.update({\"wandb\": False})\n",
    "\n",
    "\n",
    "\n",
    "#Train model\n",
    "model.train(data=HOME+\"/datasets\\data.yaml\", epochs=1)  # train the model\n",
    "metrics = model.val()  # evaluate model performance on the validation set\n",
    "# results = model(\"https://ultralytics.com/images/bus.jpg\")  # predict on an image\n",
    "# path = model.export(format=\"onnx\")  # export the model to ONNX format"
   ]
  },
  {
   "cell_type": "code",
   "execution_count": null,
   "metadata": {},
   "outputs": [],
   "source": [
    "results_cardboard = model(HOME+\"\\TrashType_Image_Dataset\\cardboard\\cardboard_130.jpg\")  # predict on an image"
   ]
  },
  {
   "cell_type": "code",
   "execution_count": 9,
   "metadata": {},
   "outputs": [],
   "source": [
    "# boxes = results_cardboard.boxes  # Boxes object for bounding box outputs\n",
    "# masks = results_cardboard.masks  # Masks object for segmentation masks outputs\n",
    "# keypoints = results_cardboard.keypoints  # Keypoints object for pose outputs\n",
    "# probs = results_cardboard.probs  # Probs object for classification outputs\n",
    "# obb = results_cardboard.obb  # Oriented boxes object for OBB outputs\n",
    "results_cardboard[0].show()  # display to screen"
   ]
  },
  {
   "cell_type": "code",
   "execution_count": null,
   "metadata": {},
   "outputs": [],
   "source": [
    "# model.export(HOME+\"\\export_try.pt\")  # export the model to ONNX format\n",
    "model.export(format='onnx',verbose=False)"
   ]
  },
  {
   "cell_type": "code",
   "execution_count": null,
   "metadata": {},
   "outputs": [],
   "source": [
    "results = model.predict(source=HOME+\"\\TrashType_Image_Dataset\\cardboard\\cardboard_131.jpg\", save_txt = True, project=\"xxx\", name=\"yyy\")\n"
   ]
  },
  {
   "cell_type": "code",
   "execution_count": null,
   "metadata": {},
   "outputs": [],
   "source": [
    "os.listdir('C:/Users/jump3/Desktop/curr school/Senior_Design-ML/runs/detect')"
   ]
  },
  {
   "cell_type": "code",
   "execution_count": null,
   "metadata": {},
   "outputs": [],
   "source": [
    "os.listdir('C:/Users/jump3/Desktop/curr school/Senior_Design-ML/runs/detect/train/weights/last.pt')"
   ]
  },
  {
   "cell_type": "code",
   "execution_count": null,
   "metadata": {},
   "outputs": [],
   "source": [
    "import os\n",
    "\n",
    "path = 'C:/Users/jump3/Desktop/curr school/Senior_Design-ML/runs/detect'\n",
    "\n",
    "\n",
    "\n",
    "def find_latest_file(folder_path):\n",
    "    folder_list = os.listdir('C:/Users/jump3/Desktop/curr school/Senior_Design-ML/runs/detect')\n",
    "    file_list = [ i for i in folder_list if i[-3:] == '.pt']\n",
    "    folder_list.reverse()\n",
    "    file_list.reverse()\n",
    "    # print( folder_list )\n",
    "    # print( file_list )\n",
    "\n",
    "    if file_list: return f'{folder_path}/{file_list[0]}'\n",
    "\n",
    "    for folder in folder_list:\n",
    "        if os.path.isfile(f'{folder_path}/{folder}/weights/best.pt'): return f'{folder_path}/{folder}/weights/best.pt'\n",
    "    return None\n",
    "            \n",
    "print( find_latest_file(path) )"
   ]
  },
  {
   "cell_type": "code",
   "execution_count": null,
   "metadata": {},
   "outputs": [],
   "source": [
    "path = model.export(format='onnx',verbose=False)"
   ]
  },
  {
   "cell_type": "code",
   "execution_count": null,
   "metadata": {},
   "outputs": [],
   "source": [
    "import shutil\n",
    "\n",
    "exp1 = 'C:/Users/jump3/Desktop/curr school/Senior_Design-ML/export path/save.onnx'\n",
    "exp2 = 'C:/Users/jump3/Desktop/curr school/Senior_Design-ML/export path/save'\n",
    "exp3 = 'C:/Users/jump3/Desktop/curr school/Senior_Design-ML/export path/save.pt'\n",
    "# path = model.export(format='onnx',verbose=False)\n",
    "print( exp1.split('.') )\n",
    "print( exp2.split('.') )\n",
    "print( exp3.split('.') )"
   ]
  },
  {
   "cell_type": "code",
   "execution_count": 14,
   "metadata": {},
   "outputs": [],
   "source": [
    "def save_model(file_path):\n",
    "    path = model.export(format='onnx',verbose=False)\n",
    "    \n",
    "    sp = file_path.split('.')\n",
    "    if len(sp)>1:\n",
    "        if sp[-1] != 'onnx':\n",
    "            #.(not onnx) file_path\n",
    "            export = shutil.copyfile(path, '.'.join(sp[:-1])+'.onnx')\n",
    "        else:\n",
    "            #.onnx file_path (correct)\n",
    "            export = shutil.copyfile(path, file_path)\n",
    "    else:\n",
    "        #folder file_path\n",
    "        export = shutil.copyfile(path, f'{file_path}/Unnamed_save.onnx')\n",
    "    #delete old file\n",
    "    os.remove(path)\n",
    "    return export"
   ]
  },
  {
   "cell_type": "code",
   "execution_count": null,
   "metadata": {},
   "outputs": [],
   "source": [
    "print( \"EXP1\\t\\t\", save_model(exp1) )\n",
    "print( \"EXP2\\t\\t\", save_model(exp2) )\n",
    "print( \"EXP3\\t\\t\", save_model(exp3) )"
   ]
  }
 ],
 "metadata": {
  "kernelspec": {
   "display_name": "Python 3",
   "language": "python",
   "name": "python3"
  },
  "language_info": {
   "codemirror_mode": {
    "name": "ipython",
    "version": 3
   },
   "file_extension": ".py",
   "mimetype": "text/x-python",
   "name": "python",
   "nbconvert_exporter": "python",
   "pygments_lexer": "ipython3",
   "version": "3.11.5"
  }
 },
 "nbformat": 4,
 "nbformat_minor": 2
}
